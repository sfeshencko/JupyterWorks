{
 "cells": [
  {
   "cell_type": "code",
   "execution_count": 21,
   "metadata": {},
   "outputs": [
    {
     "name": "stdout",
     "output_type": "stream",
     "text": [
      "0.189239332096\n"
     ]
    }
   ],
   "source": [
    "def fac(k):\n",
    "    if k == 0:\n",
    "        return 1\n",
    "    if k == 1:\n",
    "        return 1\n",
    "    return k*fac(k-1)\n",
    "def cnk(n, k):\n",
    "    s = fac(n)/(fac(k)*fac(n-k))\n",
    "    return s\n",
    "sum = 0\n",
    "for i in range(5):\n",
    "    sum += cnk(12,i)*cnk(10,4-i)*cnk(12-i,2)\n",
    "k = cnk(22,4)*cnk(22,2)\n",
    "print float(sum)/k\n"
   ]
  },
  {
   "cell_type": "code",
   "execution_count": null,
   "metadata": {},
   "outputs": [],
   "source": []
  }
 ],
 "metadata": {
  "kernelspec": {
   "display_name": "Python 2",
   "language": "python",
   "name": "python2"
  },
  "language_info": {
   "codemirror_mode": {
    "name": "ipython",
    "version": 2
   },
   "file_extension": ".py",
   "mimetype": "text/x-python",
   "name": "python",
   "nbconvert_exporter": "python",
   "pygments_lexer": "ipython2",
   "version": "2.7.16"
  }
 },
 "nbformat": 4,
 "nbformat_minor": 2
}
