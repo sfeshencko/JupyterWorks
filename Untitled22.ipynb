{
 "cells": [
  {
   "cell_type": "code",
   "execution_count": null,
   "metadata": {},
   "outputs": [],
   "source": [
    "def fac(k):\n",
    "    if k == 0:\n",
    "        return 1\n",
    "    if k == 1:\n",
    "        return 1\n",
    "    else:\n",
    "        return k*fac(k-1)\n",
    "def cnk(n,k):\n",
    "    s = fac(k)/(fac(n)*fac(k-n))\n",
    "    return s\n",
    "def lag(z,n):\n",
    "    k = 0\n",
    "    sum = 0\n",
    "    while(k <= n):\n",
    "        sum += ((-1)**k)*cnk(n-k,n)*((z**k)/fac(k))\n",
    "    return sum\n",
    "print lag(1,5)"
   ]
  },
  {
   "cell_type": "code",
   "execution_count": 7,
   "metadata": {},
   "outputs": [],
   "source": [
    "def meg(k):\n",
    "    if k % 2 == 0:\n",
    "        return 1\n",
    "    else return -1\n",
    "prin "
   ]
  },
  {
   "cell_type": "code",
   "execution_count": null,
   "metadata": {},
   "outputs": [],
   "source": []
  }
 ],
 "metadata": {
  "kernelspec": {
   "display_name": "Python 2",
   "language": "python",
   "name": "python2"
  },
  "language_info": {
   "codemirror_mode": {
    "name": "ipython",
    "version": 2
   },
   "file_extension": ".py",
   "mimetype": "text/x-python",
   "name": "python",
   "nbconvert_exporter": "python",
   "pygments_lexer": "ipython2",
   "version": "2.7.16"
  }
 },
 "nbformat": 4,
 "nbformat_minor": 2
}
