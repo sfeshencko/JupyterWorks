{
 "cells": [
  {
   "cell_type": "code",
   "execution_count": null,
   "metadata": {},
   "outputs": [],
   "source": [
    "import matplotlib.pyplot as plt\n",
    "import numpy as np \n",
    "def fac(k):\n",
    "    if k == 0:\n",
    "        return 1\n",
    "    if k == 1:\n",
    "        return 1\n",
    "    return k*fac(k-1)\n",
    "def Cnk(n, k):\n",
    "    s = fac(n)/(fac(k)*fac(n-k))\n",
    "    return s\n",
    "n = int(input())\n",
    "p = int(input())\n",
    "while(p > 1):\n",
    "    print \"put 0 < p <1\"\n",
    "    \n",
    "#x = range(n)\n"
   ]
  },
  {
   "cell_type": "code",
   "execution_count": null,
   "metadata": {},
   "outputs": [],
   "source": []
  },
  {
   "cell_type": "code",
   "execution_count": null,
   "metadata": {},
   "outputs": [],
   "source": []
  }
 ],
 "metadata": {
  "kernelspec": {
   "display_name": "Python 2",
   "language": "python",
   "name": "python2"
  },
  "language_info": {
   "codemirror_mode": {
    "name": "ipython",
    "version": 2
   },
   "file_extension": ".py",
   "mimetype": "text/x-python",
   "name": "python",
   "nbconvert_exporter": "python",
   "pygments_lexer": "ipython2",
   "version": "2.7.16"
  }
 },
 "nbformat": 4,
 "nbformat_minor": 2
}
