{
 "cells": [
  {
   "cell_type": "code",
   "execution_count": 21,
   "metadata": {},
   "outputs": [
    {
     "name": "stdout",
     "output_type": "stream",
     "text": [
      "[1.58 1.18 0.98 1.38]\n",
      "[0.8836 1.0276 0.8996 0.7956]\n",
      "[1.076312 1.001432 1.049992 1.015272]\n",
      "[0.98680304 0.98045424 0.98463984 0.98212464]\n",
      "[1.01012528 1.00196176 0.998256   1.00597472]\n",
      "[0.99856272 1.00074485 0.99793112 0.99651516]\n",
      "[1.001356   1.00008232 1.00081802 1.00000563]\n"
     ]
    }
   ],
   "source": [
    "import numpy as np\n",
    "from scipy import linalg as LA\n",
    "import math\n",
    "F = [[0.02,-0.1,-0.2,-0.3],[-0.1,0.02,-0.3,0.2],[-0.2,0.3,0.02,-0.1],[-0.3,-0.2,0.1,0.02]]\n",
    "x = [0,0,0,0]\n",
    "g = [1.58,1.18,0.98,1.38]\n",
    "a = np.dot(F,x)+g\n",
    "print a\n",
    "b = np.dot(F,a)+g\n",
    "print b\n",
    "c = np.dot(F,b)+g\n",
    "print c\n",
    "d = np.dot(F,c)+g\n",
    "print d\n",
    "e = np.dot(F,d)+g\n",
    "print e\n",
    "f = np.dot(F,e)+g\n",
    "print f\n",
    "g1 = np.dot(F,f)+g\n",
    "print g1\n",
    "h = np.dot(F,g1)+g\n",
    "i = np.dot(F,h)+g\n",
    "k = np.dot(F,i)+g"
   ]
  },
  {
   "cell_type": "code",
   "execution_count": 29,
   "metadata": {},
   "outputs": [
    {
     "name": "stdout",
     "output_type": "stream",
     "text": [
      "[1.58    1.022   0.9706  0.79866]\n",
      "[1.075682   0.9614238  0.99283674 0.98026751]\n",
      "[1.01272366 0.99615859 0.99813283 0.99636982]\n",
      "[1.0021011  0.99954718 0.99976961 0.99936459]\n"
     ]
    }
   ],
   "source": [
    "E = np.eye(4,4)\n",
    "Q = [[0,0,0,0],[-0.1,0,0,0],[-0.2,0.3,0,0],[-0.3,-0.2,0.1,0]]\n",
    "P = [[0.02,-0.1,-0.2,-0.3],[0,0.02,-0.3,0.2],[0,0,0.02,-0.1],[0,0,0,0.02]]\n",
    "q1 = LA.inv(E-Q)\n",
    "a = np.dot(np.dot(q1,P),x)+np.dot(q1,g)\n",
    "print a\n",
    "b = np.dot(np.dot(q1,P),a)+np.dot(q1,g)\n",
    "print b\n",
    "c = np.dot(np.dot(q1,P),b)+np.dot(q1,g)\n",
    "print c\n",
    "d = np.dot(np.dot(q1,P),c)+np.dot(q1,g)\n",
    "print d\n"
   ]
  },
  {
   "cell_type": "code",
   "execution_count": null,
   "metadata": {},
   "outputs": [],
   "source": []
  }
 ],
 "metadata": {
  "kernelspec": {
   "display_name": "Python 2",
   "language": "python",
   "name": "python2"
  },
  "language_info": {
   "codemirror_mode": {
    "name": "ipython",
    "version": 2
   },
   "file_extension": ".py",
   "mimetype": "text/x-python",
   "name": "python",
   "nbconvert_exporter": "python",
   "pygments_lexer": "ipython2",
   "version": "2.7.16"
  }
 },
 "nbformat": 4,
 "nbformat_minor": 2
}
