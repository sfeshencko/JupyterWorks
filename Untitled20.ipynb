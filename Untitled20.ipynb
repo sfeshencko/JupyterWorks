{
 "cells": [
  {
   "cell_type": "code",
   "execution_count": 12,
   "metadata": {},
   "outputs": [
    {
     "name": "stdout",
     "output_type": "stream",
     "text": [
      "0.196738615661\n"
     ]
    }
   ],
   "source": [
    "from math import * \n",
    "import numpy as np\n",
    "x = 1\n",
    "pi=3.1415926\n",
    "def lag(n):\n",
    "    return (1/sqrt(pi))*(exp(x/2))*(1/(sqrt(sqrt(x*n))))*cos(2*(sqrt(n*x))-pi/4)\n",
    "print lag(1)"
   ]
  },
  {
   "cell_type": "code",
   "execution_count": null,
   "metadata": {},
   "outputs": [],
   "source": []
  }
 ],
 "metadata": {
  "kernelspec": {
   "display_name": "Python 2",
   "language": "python",
   "name": "python2"
  },
  "language_info": {
   "codemirror_mode": {
    "name": "ipython",
    "version": 2
   },
   "file_extension": ".py",
   "mimetype": "text/x-python",
   "name": "python",
   "nbconvert_exporter": "python",
   "pygments_lexer": "ipython2",
   "version": "2.7.16"
  }
 },
 "nbformat": 4,
 "nbformat_minor": 2
}
