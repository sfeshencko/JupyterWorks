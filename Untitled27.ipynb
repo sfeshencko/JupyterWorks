{
 "cells": [
  {
   "cell_type": "code",
   "execution_count": 22,
   "metadata": {},
   "outputs": [
    {
     "name": "stdout",
     "output_type": "stream",
     "text": [
      "-1.0\n"
     ]
    }
   ],
   "source": [
    "def lagger(k):\n",
    "    if k == 1 :\n",
    "        return 1\n",
    "    if k == 2 :\n",
    "        return 1-2\n",
    "    if k == 3 :\n",
    "        return 1-2*2+0.5*2**2\n",
    "    if k >= 4:\n",
    "        return ((2*k-1-2)/k)*lagger(k-1)-((k-1)/k)*lagger(k-2)\n",
    "print lagger(5)"
   ]
  },
  {
   "cell_type": "code",
   "execution_count": null,
   "metadata": {},
   "outputs": [],
   "source": []
  }
 ],
 "metadata": {
  "kernelspec": {
   "display_name": "Python 2",
   "language": "python",
   "name": "python2"
  },
  "language_info": {
   "codemirror_mode": {
    "name": "ipython",
    "version": 2
   },
   "file_extension": ".py",
   "mimetype": "text/x-python",
   "name": "python",
   "nbconvert_exporter": "python",
   "pygments_lexer": "ipython2",
   "version": "2.7.16"
  }
 },
 "nbformat": 4,
 "nbformat_minor": 2
}
